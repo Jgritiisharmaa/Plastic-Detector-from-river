{
 "cells": [
  {
   "cell_type": "code",
   "execution_count": 1,
   "id": "4a6847bd",
   "metadata": {},
   "outputs": [
    {
     "name": "stdout",
     "output_type": "stream",
     "text": [
      "Latitude: (10.0, 53.7475, 0.0)\n",
      "Longitude: (106.0, 41.7201, 0.0)\n"
     ]
    }
   ],
   "source": [
    "from PIL import Image\n",
    "from PIL.ExifTags import TAGS\n",
    "\n",
    "def extract_coordinates(image_path):\n",
    "    try:\n",
    "        image = Image.open(image_path)\n",
    "        exif_data = image._getexif()\n",
    "        if exif_data is None:\n",
    "            return None\n",
    "\n",
    "        for tag_id, value in exif_data.items():\n",
    "            tag_name = TAGS.get(tag_id, tag_id)\n",
    "            if tag_name == 'GPSInfo':\n",
    "                # GPSInfo tag contains geolocation data\n",
    "                if isinstance(value, dict):\n",
    "                    latitude = value.get(2)\n",
    "                    longitude = value.get(4)\n",
    "                    if latitude and longitude:\n",
    "                        return latitude, longitude\n",
    "    except (IOError, AttributeError, KeyError):\n",
    "        pass\n",
    "\n",
    "    return None\n",
    "\n",
    "# Usage example\n",
    "image_path = 'D:\\Python projects\\dataset\\AI Hackathon REVA University\\AI Hackathon REVA University\\Predict/DJI_0023.jpg'\n",
    "coordinates = extract_coordinates(image_path)\n",
    "if coordinates is not None:\n",
    "    latitude, longitude = coordinates\n",
    "    print(f\"Latitude: {latitude}\")\n",
    "    print(f\"Longitude: {longitude}\")\n",
    "else:\n",
    "    print(\"No geolocation data found in the image.\")"
   ]
  },
  {
   "cell_type": "code",
   "execution_count": 2,
   "id": "5f3e1308",
   "metadata": {},
   "outputs": [],
   "source": [
    "def convert_to_degrees(coordinates):\n",
    "    degrees = float(coordinates[0]) + float(coordinates[1] / 60) + float(coordinates[2]/3600)\n",
    "    return degrees"
   ]
  },
  {
   "cell_type": "code",
   "execution_count": 3,
   "id": "46929a0a",
   "metadata": {},
   "outputs": [],
   "source": [
    "latitude_degrees = convert_to_degrees(latitude)\n",
    "longitude_degrees = convert_to_degrees(longitude)"
   ]
  },
  {
   "cell_type": "code",
   "execution_count": 4,
   "id": "026dcdf9",
   "metadata": {},
   "outputs": [
    {
     "name": "stdout",
     "output_type": "stream",
     "text": [
      "Latitude (degrees): 10.895791666666666\n",
      "Longitude (degrees): 106.695335\n"
     ]
    }
   ],
   "source": [
    "print(\"Latitude (degrees):\", latitude_degrees)\n",
    "print(\"Longitude (degrees):\", longitude_degrees)"
   ]
  },
  {
   "cell_type": "code",
   "execution_count": 5,
   "id": "6b010113",
   "metadata": {},
   "outputs": [],
   "source": [
    "def generate_google_maps_link(latitude, longitude):\n",
    "    link = f\"https://www.google.com/maps/search/?api=1&query={latitude},{longitude}\"\n",
    "    return link"
   ]
  },
  {
   "cell_type": "code",
   "execution_count": 6,
   "id": "f780f14b",
   "metadata": {},
   "outputs": [
    {
     "name": "stdout",
     "output_type": "stream",
     "text": [
      "https://www.google.com/maps/search/?api=1&query=10.895791666666666,106.695335\n"
     ]
    }
   ],
   "source": [
    "google_maps_link = generate_google_maps_link(latitude_degrees, longitude_degrees)\n",
    "print(google_maps_link)"
   ]
  },
  {
   "cell_type": "markdown",
   "id": "bca5c8af",
   "metadata": {},
   "source": [
    "# Similar can be done for all images in for  loop"
   ]
  }
 ],
 "metadata": {
  "kernelspec": {
   "display_name": "Python 3 (ipykernel)",
   "language": "python",
   "name": "python3"
  },
  "language_info": {
   "codemirror_mode": {
    "name": "ipython",
    "version": 3
   },
   "file_extension": ".py",
   "mimetype": "text/x-python",
   "name": "python",
   "nbconvert_exporter": "python",
   "pygments_lexer": "ipython3",
   "version": "3.9.13"
  }
 },
 "nbformat": 4,
 "nbformat_minor": 5
}
